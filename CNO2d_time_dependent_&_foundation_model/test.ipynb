{
 "cells": [
  {
   "cell_type": "code",
   "execution_count": 2,
   "metadata": {},
   "outputs": [],
   "source": [
    "import xarray as xr\n",
    "import numpy as np\n",
    "import re\n",
    "import glob\n",
    "from collections import defaultdict"
   ]
  },
  {
   "cell_type": "code",
   "execution_count": 4,
   "metadata": {},
   "outputs": [
    {
     "data": {
      "text/plain": [
       "[]"
      ]
     },
     "execution_count": 4,
     "metadata": {},
     "output_type": "execute_result"
    }
   ],
   "source": [
    "files"
   ]
  },
  {
   "cell_type": "code",
   "execution_count": 5,
   "metadata": {},
   "outputs": [],
   "source": [
    "# Get all .npy files\n",
    "files = glob.glob(\"out/stat/pred_pattern_*_batch_*_jump_*.npy\")\n",
    "\n",
    "# Parse filenames into (pattern, batch, jump) → filepath\n",
    "pattern_re = re.compile(r\"pattern_(\\d+)_batch_(\\d+)_jump_(\\d+)\\.npy\")\n",
    "filemap = defaultdict(lambda: defaultdict(dict))\n",
    "\n",
    "for f in files:\n",
    "    match = pattern_re.search(f)\n",
    "    if match:\n",
    "        p, b, j = map(int, match.groups())\n",
    "        filemap[b][p][j] = f\n",
    "\n",
    "# Ensure consistent sorting\n",
    "sorted_batches = sorted(filemap)\n",
    "sorted_patterns = sorted(next(iter(filemap.values())))\n",
    "n_jumps = len(next(iter(next(iter(filemap.values())).values())))\n",
    "\n"
   ]
  },
  {
   "cell_type": "code",
   "execution_count": 8,
   "metadata": {},
   "outputs": [
    {
     "data": {
      "text/plain": [
       "1"
      ]
     },
     "execution_count": 8,
     "metadata": {},
     "output_type": "execute_result"
    }
   ],
   "source": [
    "n_jumps"
   ]
  },
  {
   "cell_type": "code",
   "execution_count": null,
   "metadata": {},
   "outputs": [],
   "source": []
  }
 ],
 "metadata": {
  "kernelspec": {
   "display_name": "Python 3",
   "language": "python",
   "name": "python3"
  },
  "language_info": {
   "codemirror_mode": {
    "name": "ipython",
    "version": 3
   },
   "file_extension": ".py",
   "mimetype": "text/x-python",
   "name": "python",
   "nbconvert_exporter": "python",
   "pygments_lexer": "ipython3",
   "version": "3.11.6"
  },
  "orig_nbformat": 4
 },
 "nbformat": 4,
 "nbformat_minor": 2
}
